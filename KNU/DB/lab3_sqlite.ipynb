{
 "cells": [
  {
   "cell_type": "code",
   "execution_count": 65,
   "metadata": {},
   "outputs": [],
   "source": [
    "from random import randint, choice\n",
    "\n",
    "shops = ['Novus', 'ATB', 'Varus', 'Silpo', 'Megamarket']\n",
    "products = {\n",
    "    'bread' : 20,\n",
    "    'milk' : 30,\n",
    "    'butter' : 50,\n",
    "    'apple' : 15,\n",
    "    'sausage' : 150,\n",
    "    'chiken' : 120,\n",
    "    'tea' : 55,\n",
    "    'banana' : 45,\n",
    "    'water' : 15,\n",
    "    'fish' : 80,\n",
    "}\n",
    "bills_count = 100000\n",
    "items_count = bills_count * 5\n",
    "\n",
    "bills = []\n",
    "for id in range(0, bills_count):\n",
    "    shop = choice(shops)\n",
    "    month = randint(1, 12)\n",
    "    day = randint(1, 28)\n",
    "    date = f'{randint(2017, 2022)}-{month if month>9 else \"0\"+str(month)}-{day if day>9 else \"0\"+str(day)}'\n",
    "    bills.append([id, shop, date])\n",
    "\n",
    "plist = list(products.keys())\n",
    "items = []\n",
    "for i in range(0, items_count):\n",
    "    pname = choice(plist)\n",
    "    count = randint(1, 6)\n",
    "    price = products[pname] + randint(-5, 5)\n",
    "    items.append([randint(0, bills_count-1), pname, count, price])"
   ]
  },
  {
   "cell_type": "code",
   "execution_count": 66,
   "metadata": {},
   "outputs": [],
   "source": [
    "import sqlite3 as sql\n",
    "\n",
    "con = sql.connect('market.db')\n",
    "with con:\n",
    "    cur = con.cursor()\n",
    "    cur.execute(\"DROP TABLE IF EXISTS `bill`\")\n",
    "    cur.execute(\"CREATE TABLE IF NOT EXISTS `bill` (`id` INTEGER, `name` STRING, `date` STRING)\")\n",
    "    for bill in bills:\n",
    "        cur.execute(f\"INSERT INTO `bill` VALUES ('{bill[0]}', '{bill[1]}', '{bill[2]}')\")\n",
    "    con.commit()\n",
    "    \n",
    "    cur.execute(\"DROP TABLE IF EXISTS `item`\")\n",
    "    cur.execute(\"CREATE TABLE IF NOT EXISTS `item` (`bill_id` INTEGER, `name` STRING, `count` INTEGER, `price` INTEGER)\")\n",
    "    for item in items:\n",
    "        cur.execute(f\"INSERT INTO `item` VALUES ('{item[0]}', '{item[1]}', '{item[2]}', '{item[3]}')\")\n",
    "    \n",
    "    con.commit()\n",
    "    cur.close()"
   ]
  },
  {
   "cell_type": "code",
   "execution_count": 68,
   "metadata": {},
   "outputs": [
    {
     "name": "stdout",
     "output_type": "stream",
     "text": [
      "(75606, 'chiken', 5, 118)\n",
      "(80438, 'milk', 2, 33)\n",
      "(22153, 'fish', 4, 79)\n",
      "(7063, 'sausage', 3, 150)\n",
      "(83154, 'milk', 3, 30)\n",
      "(96255, 'bread', 2, 18)\n",
      "(33404, 'bread', 3, 25)\n",
      "(47944, 'bread', 5, 15)\n",
      "(11193, 'sausage', 6, 145)\n",
      "(74687, 'apple', 1, 16)\n"
     ]
    }
   ],
   "source": [
    "import sqlite3 as sql\n",
    "\n",
    "con = sql.connect('market.db')\n",
    "with con:\n",
    "    cur = con.cursor()\n",
    "    cur.execute(\"SELECT * FROM `item` LIMIT 10\")\n",
    "    rows = cur.fetchall()\n",
    "    for row in rows:\n",
    "        print(row)\n",
    "\n",
    "    con.commit()\n",
    "    cur.close()"
   ]
  },
  {
   "cell_type": "code",
   "execution_count": 69,
   "metadata": {},
   "outputs": [
    {
     "name": "stdout",
     "output_type": "stream",
     "text": [
      "[(1750532,)]\n"
     ]
    }
   ],
   "source": [
    "#Порахувати кількість проданового товару\n",
    "con = sql.connect('market.db')\n",
    "with con:\n",
    "    cur = con.cursor()\n",
    "    cur.execute(\"SELECT sum(`count`) FROM `item`\")\n",
    "    answ = cur.fetchall()\n",
    "    print(answ)\n",
    "\n",
    "    con.commit()\n",
    "    cur.close()"
   ]
  },
  {
   "cell_type": "code",
   "execution_count": 57,
   "metadata": {},
   "outputs": [
    {
     "name": "stdout",
     "output_type": "stream",
     "text": [
      "[(1024725,)]\n"
     ]
    }
   ],
   "source": [
    "#Порахувати вартість проданого товару\n",
    "con = sql.connect('market.db')\n",
    "with con:\n",
    "    cur = con.cursor()\n",
    "    cur.execute(\"SELECT sum(`count`*`price`) FROM `item`\")\n",
    "    answ = cur.fetchall()\n",
    "    print(answ)\n",
    "\n",
    "    con.commit()\n",
    "    cur.close()"
   ]
  },
  {
   "cell_type": "code",
   "execution_count": 70,
   "metadata": {},
   "outputs": [
    {
     "name": "stdout",
     "output_type": "stream",
     "text": [
      "[('ATB', 6721705), ('Megamarket', 6899945), ('Novus', 6761530), ('Silpo', 6808531), ('Varus', 6817003)]\n"
     ]
    }
   ],
   "source": [
    "#Порахувати вартість проданого товару за період\n",
    "con = sql.connect('market.db')\n",
    "with con:\n",
    "    cur = con.cursor()\n",
    "    cur.execute(\"SELECT bill.name, sum(`count`*`price`) FROM `item` JOIN `bill` ON `id`=`bill_id` WHERE `date` BETWEEN '2019-01-01' AND '2020-12-31' GROUP BY bill.name\")\n",
    "    answ = cur.fetchall()\n",
    "    print(answ)\n",
    "\n",
    "    con.commit()\n",
    "    cur.close()"
   ]
  },
  {
   "cell_type": "code",
   "execution_count": 71,
   "metadata": {},
   "outputs": [
    {
     "name": "stdout",
     "output_type": "stream",
     "text": [
      "[(12011,)]\n"
     ]
    }
   ],
   "source": [
    "#Порахувати скільки було придбано товару А в мазазині В за період С\n",
    "con = sql.connect('market.db')\n",
    "with con:\n",
    "    cur = con.cursor()\n",
    "    cur.execute(\"SELECT sum(`count`) FROM `item` JOIN `bill` ON `id`=`bill_id` WHERE item.name='milk' AND bill.name='Novus' AND `date` BETWEEN '2019-01-01' AND '2020-12-31'\")\n",
    "    answ = cur.fetchall()\n",
    "    print(answ)\n",
    "\n",
    "    con.commit()\n",
    "    cur.close()"
   ]
  },
  {
   "cell_type": "code",
   "execution_count": 72,
   "metadata": {},
   "outputs": [
    {
     "name": "stdout",
     "output_type": "stream",
     "text": [
      "[(58403,)]\n"
     ]
    }
   ],
   "source": [
    "#Порахувати скільки було придбано товару А в усіх магазинах за період С\n",
    "con = sql.connect('market.db')\n",
    "with con:\n",
    "    cur = con.cursor()\n",
    "    cur.execute(\"SELECT sum(`count`) FROM `item` JOIN `bill` ON `id`=`bill_id` WHERE item.name='milk' AND `date` BETWEEN '2019-01-01' AND '2020-12-31'\")\n",
    "    answ = cur.fetchall()\n",
    "    print(answ)\n",
    "\n",
    "    con.commit()\n",
    "    cur.close()"
   ]
  },
  {
   "cell_type": "code",
   "execution_count": 73,
   "metadata": {},
   "outputs": [
    {
     "name": "stdout",
     "output_type": "stream",
     "text": [
      "[(34008714,)]\n"
     ]
    }
   ],
   "source": [
    "#Порахувати сумарну виручку магазинів за період С\n",
    "con = sql.connect('market.db')\n",
    "with con:\n",
    "    cur = con.cursor()\n",
    "    cur.execute(\"SELECT sum(`count`*`price`) FROM `item` JOIN `bill` ON `id`=`bill_id` WHERE `date` BETWEEN '2019-01-01' AND '2020-12-31'\")\n",
    "    answ = cur.fetchall()\n",
    "    print(answ)\n",
    "\n",
    "    con.commit()\n",
    "    cur.close()"
   ]
  },
  {
   "cell_type": "code",
   "execution_count": 77,
   "metadata": {},
   "outputs": [
    {
     "name": "stdout",
     "output_type": "stream",
     "text": [
      "[('bread', 'tea', 8648), ('tea', 'bread', 8648), ('bread', 'chiken', 8618), ('chiken', 'bread', 8618), ('sausage', 'water', 8536), ('water', 'sausage', 8536), ('butter', 'milk', 8493), ('milk', 'butter', 8493), ('butter', 'sausage', 8486), ('sausage', 'butter', 8486)]\n"
     ]
    }
   ],
   "source": [
    "#Вивести топ 10 купівель товарів по два за період С (наприклад масло, хліб - 1000 разів)\n",
    "con = sql.connect('market.db')\n",
    "with con:\n",
    "    cur = con.cursor()\n",
    "    cur.execute(\"\"\"\n",
    "    SELECT a.name, b.name, count(*) cnt\n",
    "    FROM `item` a JOIN `item` b ON a.bill_id=b.bill_id AND a.name<>b.name\n",
    "    JOIN `bill` ON `id`=a.bill_id \n",
    "    WHERE `date` BETWEEN '2019-01-01' AND '2020-12-31'\n",
    "    AND a.name <> b.name\n",
    "    GROUP BY a.name, b.name\n",
    "    ORDER BY cnt desc\n",
    "    LIMIT 10\n",
    "    \"\"\")\n",
    "    answ = cur.fetchall()\n",
    "    print(answ)\n",
    "\n",
    "    con.commit()\n",
    "    cur.close()"
   ]
  },
  {
   "cell_type": "code",
   "execution_count": 75,
   "metadata": {},
   "outputs": [
    {
     "name": "stdout",
     "output_type": "stream",
     "text": [
      "[('bread', 'chiken', 'tea', 4435), ('bread', 'tea', 'chiken', 4435), ('chiken', 'bread', 'tea', 4435), ('chiken', 'tea', 'bread', 4435), ('tea', 'bread', 'chiken', 4435), ('tea', 'chiken', 'bread', 4435), ('banana', 'bread', 'tea', 4380), ('banana', 'tea', 'bread', 4380), ('bread', 'banana', 'tea', 4380), ('bread', 'tea', 'banana', 4380)]\n"
     ]
    }
   ],
   "source": [
    "#Вивести топ 10 купівель товарів по три за період С (наприклад молоко, масло, хліб - 1000 разів)\n",
    "con = sql.connect('market.db')\n",
    "with con:\n",
    "    cur = con.cursor()\n",
    "    cur.execute(\"\"\"\n",
    "    SELECT a.name, b.name, c.name, count(*) cnt\n",
    "    FROM `item` a JOIN `item` b ON a.bill_id=b.bill_id\n",
    "    JOIN `item` c ON a.bill_id=c.bill_id\n",
    "    JOIN `bill` ON `id`=a.bill_id \n",
    "    WHERE `date` BETWEEN '2019-01-01' AND '2020-12-31'\n",
    "    AND a.name <> b.name\n",
    "    AND a.name <> c.name\n",
    "    AND b.name <> c.name\n",
    "    GROUP BY a.name, b.name, c.name\n",
    "    ORDER BY cnt desc\n",
    "    LIMIT 10\n",
    "    \"\"\")\n",
    "    answ = cur.fetchall()\n",
    "    print(answ)\n",
    "\n",
    "    con.commit()\n",
    "    cur.close()"
   ]
  },
  {
   "cell_type": "code",
   "execution_count": 76,
   "metadata": {},
   "outputs": [
    {
     "name": "stdout",
     "output_type": "stream",
     "text": [
      "[('apple', 'banana', 'milk', 'water', 2294), ('apple', 'banana', 'water', 'milk', 2294), ('apple', 'milk', 'banana', 'water', 2294), ('apple', 'milk', 'water', 'banana', 2294), ('apple', 'water', 'banana', 'milk', 2294), ('apple', 'water', 'milk', 'banana', 2294), ('banana', 'apple', 'milk', 'water', 2294), ('banana', 'apple', 'water', 'milk', 2294), ('banana', 'milk', 'apple', 'water', 2294), ('banana', 'milk', 'water', 'apple', 2294)]\n"
     ]
    }
   ],
   "source": [
    "#Вивести топ 10 купівель товарів по чотири за період С\n",
    "con = sql.connect('market.db')\n",
    "with con:\n",
    "    cur = con.cursor()\n",
    "    cur.execute(\"\"\"\n",
    "    SELECT a.name, b.name, c.name, d.name, count(*) cnt\n",
    "    FROM `item` a JOIN `item` b ON a.bill_id=b.bill_id\n",
    "    JOIN `item` c ON a.bill_id=c.bill_id\n",
    "    JOIN `item` d ON a.bill_id=d.bill_id\n",
    "    JOIN `bill` ON `id`=a.bill_id \n",
    "    WHERE `date` BETWEEN '2019-01-01' AND '2020-12-31'\n",
    "    AND a.name <> b.name\n",
    "    AND a.name <> c.name\n",
    "    AND a.name <> d.name\n",
    "    AND b.name <> c.name\n",
    "    AND b.name <> d.name\n",
    "    AND c.name <> d.name\n",
    "    GROUP BY a.name, b.name, c.name, d.name\n",
    "    ORDER BY cnt desc\n",
    "    LIMIT 10\n",
    "    \"\"\")\n",
    "    answ = cur.fetchall()\n",
    "    print(answ)\n",
    "\n",
    "    con.commit()\n",
    "    cur.close()"
   ]
  },
  {
   "cell_type": "code",
   "execution_count": null,
   "metadata": {},
   "outputs": [],
   "source": []
  }
 ],
 "metadata": {
  "interpreter": {
   "hash": "64ca1638bdc7d476bb57f648148ab6bd456aaa517a6995e6a3d49e188600ceb4"
  },
  "kernelspec": {
   "display_name": "Python 3.9.13 64-bit (windows store)",
   "language": "python",
   "name": "python3"
  },
  "language_info": {
   "codemirror_mode": {
    "name": "ipython",
    "version": 3
   },
   "file_extension": ".py",
   "mimetype": "text/x-python",
   "name": "python",
   "nbconvert_exporter": "python",
   "pygments_lexer": "ipython3",
   "version": "3.9.13"
  },
  "orig_nbformat": 4
 },
 "nbformat": 4,
 "nbformat_minor": 2
}
